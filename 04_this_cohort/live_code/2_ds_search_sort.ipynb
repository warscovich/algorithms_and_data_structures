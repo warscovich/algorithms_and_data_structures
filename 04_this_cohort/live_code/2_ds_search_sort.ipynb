{
 "cells": [
  {
   "cell_type": "code",
   "execution_count": 1,
   "id": "784f0571",
   "metadata": {},
   "outputs": [],
   "source": [
    "# Review of Lecture 1\n"
   ]
  },
  {
   "cell_type": "code",
   "execution_count": 2,
   "id": "6cf8f27c",
   "metadata": {},
   "outputs": [],
   "source": [
    "import timeit\n",
    "import random"
   ]
  },
  {
   "cell_type": "code",
   "execution_count": 3,
   "id": "f5746134",
   "metadata": {},
   "outputs": [],
   "source": [
    "# my_algorithm(my_data[:100]): # -> 20ms\n",
    "# my_algorithm(my_data[:1000]): # -> 400ms\n",
    "# my_algorithm(my_data[:100000]): # -> 5 hours"
   ]
  },
  {
   "cell_type": "code",
   "execution_count": 13,
   "id": "85088376",
   "metadata": {},
   "outputs": [],
   "source": [
    "small_list = list(range(10)) # 10\n",
    "medium_list = list(range(10**2)) # 100\n",
    "big_list = list(range(10**4)) #  10000\n",
    "\n",
    "random.shuffle(small_list)\n",
    "random.shuffle(medium_list)\n",
    "random.shuffle(big_list)"
   ]
  },
  {
   "cell_type": "code",
   "execution_count": 5,
   "id": "bb9db5c6",
   "metadata": {},
   "outputs": [],
   "source": [
    "# O(1) - Constant - The runtime doesn't change based off the size of the input\n",
    "# O(log n) - Log n - The runtime scales logarithmacally based off the size of the input\n",
    "# O(n) - linear time - The runtime scales linearly/proportionally based off the size of the input 100 -> 1000, runtime 2 seconds -> 20 seconds\n",
    "# O(nlogn) - nlogn time - The runtime scales n*logn\n",
    "# O(n^2) - quadratic time - The runtime scales off a factor of n^2, if we double the size of the input, the runtime quadruples (2^2 = 4)\n",
    "# O(n^{3, 4, 5, 6..}) - Polynomial time\n",
    "# O(2^n) - Exponential time\n",
    "# O(n!) - Factorial time"
   ]
  },
  {
   "cell_type": "code",
   "execution_count": 14,
   "id": "3d9fec0f",
   "metadata": {},
   "outputs": [
    {
     "name": "stdout",
     "output_type": "stream",
     "text": [
      "Time to run on small list: 0.000062\n",
      "Time to run on medium list: 0.000073 which is 1.17 times the small list\n",
      "Time to run on big list: 0.000052 which is 0.7133 times the medium list, and 0.7133 times the small list\n"
     ]
    }
   ],
   "source": [
    "def get_first_element(lst):\n",
    "    return lst[0]\n",
    "\n",
    "\n",
    "a = timeit.timeit(\"get_first_element(small_list)\", number=1000, globals=globals())\n",
    "b = timeit.timeit(\"get_first_element(medium_list)\", number=1000, globals=globals())\n",
    "c = timeit.timeit(\"get_first_element(big_list)\", number=1000, globals=globals())\n",
    "\n",
    "print(\"Time to run on small list: {0:.6f}\".format(a))\n",
    "print(\"Time to run on medium list: {0:.6f} which is {1:.2f} times the small list\".format(b, b/a))\n",
    "print(\"Time to run on big list: {0:.6f} which is {1:.4f} times the medium list, and {1:.4f} times the small list\".format(c, c/b, c/a))"
   ]
  },
  {
   "cell_type": "code",
   "execution_count": 16,
   "id": "fa9c790a",
   "metadata": {},
   "outputs": [
    {
     "name": "stdout",
     "output_type": "stream",
     "text": [
      "Time to run on small list: 0.000668\n",
      "Time to run on medium list: 0.000365 which is 0.55 times the small list\n",
      "Time to run on big list: 0.000310 which is 0.8493 times the medium list, and 0.8493 times the small list\n"
     ]
    }
   ],
   "source": [
    "def add_first_10_numbers(lst): # Precondition list should have atleast 10 elements\n",
    "    total = lst[0]\n",
    "    total = total + lst[1]\n",
    "    total = total + lst[2]\n",
    "    total = total + lst[3]\n",
    "    total = total + lst[4]\n",
    "    total = total + lst[5]\n",
    "    total = total + lst[6]\n",
    "    total = total + lst[7]\n",
    "    total = total + lst[8]\n",
    "    total = total + lst[9]\n",
    "    return total\n",
    " \n",
    "\n",
    "a = timeit.timeit(\"add_first_10_numbers(small_list)\", number=1000, globals=globals())\n",
    "b = timeit.timeit(\"add_first_10_numbers(medium_list)\", number=1000, globals=globals())\n",
    "c = timeit.timeit(\"add_first_10_numbers(big_list)\", number=1000, globals=globals())\n",
    "print(\"Time to run on small list: {0:.6f}\".format(a))\n",
    "print(\"Time to run on medium list: {0:.6f} which is {1:.2f} times the small list\".format(b, b/a))\n",
    "print(\"Time to run on big list: {0:.6f} which is {1:.4f} times the medium list, and {1:.4f} times the small list\".format(c, c/b, c/a))"
   ]
  },
  {
   "cell_type": "code",
   "execution_count": 8,
   "id": "a2a24b4f",
   "metadata": {},
   "outputs": [
    {
     "name": "stdout",
     "output_type": "stream",
     "text": [
      "Time to run on small list: 0.000460\n",
      "Time to run on medium list: 0.004357 which is 9.48 times the small list\n",
      "Time to run on big list: 0.5451870030010468 which is 125.13341135043248 times the medium list, and 1185.8103949155798 times the small list\n"
     ]
    }
   ],
   "source": [
    "def get_sum(lst):\n",
    "    total = 0\n",
    "    for item in lst:\n",
    "        total = total + item\n",
    "    return total\n",
    "\n",
    "# small_list -> 10 elements\n",
    "# medium_list -> 100 elemnts # see a 10x increase in runtim\n",
    "# big_list -> 10000 elments # see a 100x increase in runtime compared to medium\n",
    "\n",
    "\n",
    "a = timeit.timeit(\"get_sum(small_list)\", number=1000, globals=globals())\n",
    "b = timeit.timeit(\"get_sum(medium_list)\", number=1000, globals=globals())\n",
    "c = timeit.timeit(\"get_sum(big_list)\", number=1000, globals=globals())\n",
    "print(\"Time to run on small list: {0:.6f}\".format(a))\n",
    "print(\"Time to run on medium list: {0:.6f} which is {1:.2f} times the small list\".format(b, b/a))\n",
    "print(\"Time to run on big list: {} which is {} times the medium list, and {} times the small list\".format(c, c/b, c/a))"
   ]
  },
  {
   "cell_type": "code",
   "execution_count": 19,
   "id": "20460128",
   "metadata": {},
   "outputs": [
    {
     "name": "stdout",
     "output_type": "stream",
     "text": [
      "Time to run on small list: 0.000929\n",
      "Time to run on medium list: 0.005851 which is 6.30 times the small list\n",
      "Time to run on big list: 0.6529469329980202 which is 111.58628653402062 times the medium list, and 703.1148813789637 times the small list\n"
     ]
    }
   ],
   "source": [
    "def search(arr, target):\n",
    "    for i in range(len(arr)):\n",
    "        if arr[i] == target:\n",
    "            return i\n",
    "    return -1\n",
    "\n",
    "a = timeit.timeit(\"search(small_list, random.random() * len(small_list))\", number=1000, globals=globals())\n",
    "b = timeit.timeit(\"search(medium_list, random.random() * len(medium_list))\", number=1000, globals=globals())\n",
    "c = timeit.timeit(\"search(big_list, random.random() * len(big_list))\", number=1000, globals=globals())\n",
    "print(\"Time to run on small list: {0:.6f}\".format(a))\n",
    "print(\"Time to run on medium list: {0:.6f} which is {1:.2f} times the small list\".format(b, b/a))\n",
    "print(\"Time to run on big list: {} which is {} times the medium list, and {} times the small list\".format(c, c/b, c/a))"
   ]
  },
  {
   "cell_type": "code",
   "execution_count": 20,
   "id": "f3f03cdf",
   "metadata": {},
   "outputs": [
    {
     "name": "stdout",
     "output_type": "stream",
     "text": [
      "Time to run on small list: 0.000073\n",
      "Time to run on medium list: 0.000117 which is 1.62 times the small list\n",
      "Time to run on big list: 0.0002654489944688976 which is 2.259198020393636 times the medium list, and 3.6606083349178262 times the small list\n",
      "Time to run on huge list: 0.0007514739991165698 which is 2.830954400939045 times the big list, and 10.363015275849769 times the small list\n"
     ]
    }
   ],
   "source": [
    "def binary_search(arr, target):\n",
    "    low, high = 0, len(arr) - 1\n",
    "    while low <= high:\n",
    "        mid = (low + high) // 2\n",
    "        if arr[mid] == target:\n",
    "            return mid\n",
    "        elif arr[mid] < target:\n",
    "            low = mid + 1\n",
    "        else:\n",
    "            high = mid - 1\n",
    "    return -1\n",
    "\n",
    "\n",
    "\n",
    "small_list = list(range(10))\n",
    "medium_list = list(range(100))\n",
    "big_list = list(range(10000))\n",
    "huge_list = list(range(1000000))\n",
    "\n",
    "\n",
    "a = timeit.timeit(\"binary_search(small_list, random.random() * len(small_list))\", number=100, globals=globals())\n",
    "b = timeit.timeit(\"binary_search(medium_list, random.random() * len(medium_list))\", number=100, globals=globals())\n",
    "c = timeit.timeit(\"binary_search(big_list, random.random() * len(big_list))\", number=100, globals=globals())\n",
    "d = timeit.timeit(\"binary_search(huge_list, random.random() * len(huge_list))\", number=100, globals=globals())\n",
    "print(\"Time to run on small list: {0:.6f}\".format(a))\n",
    "print(\"Time to run on medium list: {0:.6f} which is {1:.2f} times the small list\".format(b, b/a))\n",
    "print(\"Time to run on big list: {} which is {} times the medium list, and {} times the small list\".format(c, c/b, c/a))\n",
    "print(\"Time to run on huge list: {} which is {} times the big list, and {} times the small list\".format(d, d/c, d/a))"
   ]
  },
  {
   "cell_type": "code",
   "execution_count": 21,
   "id": "948ffabf",
   "metadata": {},
   "outputs": [
    {
     "name": "stdout",
     "output_type": "stream",
     "text": [
      "Time to run on small list: 0.000059\n",
      "Time to run on medium list: 0.003211 which is 54.81 times the small list\n",
      "Time to run on big list: 26.898925063003844 which is 8376.079520654068 times the medium list, and 459057.355244939 times the small list\n"
     ]
    }
   ],
   "source": [
    "def bubble_sort(arr):\n",
    "    n = len(arr)\n",
    "    for i in range(n): \n",
    "        for j in range(0, n-i-1): \n",
    "            if arr[j] > arr[j+1]: \n",
    "                arr[j], arr[j+1] = arr[j+1], arr[j]\n",
    "    return arr\n",
    "# O(n^2)\n",
    "\n",
    "a = timeit.timeit(\"bubble_sort(small_list)\", number=10, globals=globals())\n",
    "b = timeit.timeit(\"bubble_sort(medium_list)\", number=10, globals=globals())\n",
    "c = timeit.timeit(\"bubble_sort(big_list)\", number=10, globals=globals()) # 10,000\n",
    "print(\"Time to run on small list: {0:.6f}\".format(a))\n",
    "print(\"Time to run on medium list: {0:.6f} which is {1:.2f} times the small list\".format(b, b/a))\n",
    "print(\"Time to run on big list: {} which is {} times the medium list, and {} times the small list\".format(c, c/b, c/a))"
   ]
  },
  {
   "cell_type": "code",
   "execution_count": 1,
   "id": "cea33d8a",
   "metadata": {},
   "outputs": [],
   "source": [
    "def my_is_sorted(lst):\n",
    "    for i in range(len(lst)-1):\n",
    "        if lst[i] > lst[i+1]:\n",
    "            return False\n",
    "    return True"
   ]
  },
  {
   "cell_type": "code",
   "execution_count": 2,
   "id": "5e1e07dc",
   "metadata": {},
   "outputs": [
    {
     "ename": "NameError",
     "evalue": "name 'is_sorted' is not defined",
     "output_type": "error",
     "traceback": [
      "\u001b[0;31m---------------------------------------------------------------------------\u001b[0m",
      "\u001b[0;31mNameError\u001b[0m                                 Traceback (most recent call last)",
      "Cell \u001b[0;32mIn[2], line 1\u001b[0m\n\u001b[0;32m----> 1\u001b[0m is_sorted([\u001b[38;5;241m1\u001b[39m, \u001b[38;5;241m2\u001b[39m, \u001b[38;5;241m3\u001b[39m, \u001b[38;5;241m4\u001b[39m, \u001b[38;5;241m5\u001b[39m, \u001b[38;5;241m6\u001b[39m, \u001b[38;5;241m7\u001b[39m, \u001b[38;5;241m8\u001b[39m, \u001b[38;5;241m10000\u001b[39m])\n",
      "\u001b[0;31mNameError\u001b[0m: name 'is_sorted' is not defined"
     ]
    }
   ],
   "source": [
    "is_sorted([1, 2, 3, 4, 5, 6, 7, 8, 10000])"
   ]
  },
  {
   "cell_type": "code",
   "execution_count": null,
   "id": "53ca603e",
   "metadata": {},
   "outputs": [],
   "source": []
  },
  {
   "cell_type": "code",
   "execution_count": 4,
   "id": "8bd73d5a",
   "metadata": {},
   "outputs": [
    {
     "data": {
      "text/plain": [
       "{1, 2, 3, 4}"
      ]
     },
     "execution_count": 4,
     "metadata": {},
     "output_type": "execute_result"
    }
   ],
   "source": [
    "my_set = set([1, 2, 3, 4])\n",
    "my_set"
   ]
  },
  {
   "cell_type": "code",
   "execution_count": 5,
   "id": "01665b3c",
   "metadata": {},
   "outputs": [
    {
     "ename": "TypeError",
     "evalue": "'set' object is not subscriptable",
     "output_type": "error",
     "traceback": [
      "\u001b[0;31m---------------------------------------------------------------------------\u001b[0m",
      "\u001b[0;31mTypeError\u001b[0m                                 Traceback (most recent call last)",
      "Cell \u001b[0;32mIn[5], line 1\u001b[0m\n\u001b[0;32m----> 1\u001b[0m my_set[\u001b[38;5;241m0\u001b[39m]\n",
      "\u001b[0;31mTypeError\u001b[0m: 'set' object is not subscriptable"
     ]
    }
   ],
   "source": [
    "my_set[0]"
   ]
  },
  {
   "cell_type": "code",
   "execution_count": 11,
   "id": "3f87f31b",
   "metadata": {},
   "outputs": [
    {
     "name": "stdout",
     "output_type": "stream",
     "text": [
      "4\n",
      "{1, 2, 3, 4, 5}\n",
      "{1, 2, 3, 4}\n",
      "True\n"
     ]
    }
   ],
   "source": [
    "# get size\n",
    "print(len(my_set))\n",
    "# insert a value (without introducing duplicates), \n",
    "my_set.add(5)\n",
    "print(my_set)\n",
    "# remove a specified value\n",
    "my_set.remove(5)\n",
    "print(my_set)\n",
    "# check membership\n",
    "print(4 in my_set)"
   ]
  },
  {
   "cell_type": "code",
   "execution_count": 12,
   "id": "9f330829",
   "metadata": {},
   "outputs": [],
   "source": [
    "my_set.add(\"Seven\")"
   ]
  },
  {
   "cell_type": "code",
   "execution_count": 13,
   "id": "6c853cf6",
   "metadata": {},
   "outputs": [
    {
     "data": {
      "text/plain": [
       "{1, 2, 3, 4, 'Seven'}"
      ]
     },
     "execution_count": 13,
     "metadata": {},
     "output_type": "execute_result"
    }
   ],
   "source": [
    "my_set"
   ]
  },
  {
   "cell_type": "code",
   "execution_count": 15,
   "id": "bd0d7175",
   "metadata": {},
   "outputs": [],
   "source": [
    "my_list = [1, 4, 6, {1, 2, 3}, [4, 5, 6]]"
   ]
  },
  {
   "cell_type": "code",
   "execution_count": 16,
   "id": "7e01095b",
   "metadata": {},
   "outputs": [
    {
     "data": {
      "text/plain": [
       "[1, 4, 6, {1, 2, 3}, [4, 5, 6]]"
      ]
     },
     "execution_count": 16,
     "metadata": {},
     "output_type": "execute_result"
    }
   ],
   "source": [
    "my_list"
   ]
  },
  {
   "cell_type": "code",
   "execution_count": 24,
   "id": "b9ae600f",
   "metadata": {},
   "outputs": [
    {
     "name": "stdout",
     "output_type": "stream",
     "text": [
      "1\n",
      "[1, 4, 3, 3, 3, 3, 6, {1, 2, 3}, [4, 5, 6]]\n"
     ]
    },
    {
     "data": {
      "text/plain": [
       "3"
      ]
     },
     "execution_count": 24,
     "metadata": {},
     "output_type": "execute_result"
    }
   ],
   "source": [
    "# access element by index, \n",
    "print(my_list[0])\n",
    "# insert a value at a given index \n",
    "my_list.insert(2, 3)\n",
    "print(my_list)\n",
    "# remove a value at a given index\n",
    "my_list.pop(2)"
   ]
  },
  {
   "cell_type": "code",
   "execution_count": 29,
   "id": "68954895",
   "metadata": {},
   "outputs": [
    {
     "data": {
      "text/plain": [
       "[1, 4, 6, {1, 2, 3}, [4, 5, 6]]"
      ]
     },
     "execution_count": 29,
     "metadata": {},
     "output_type": "execute_result"
    }
   ],
   "source": [
    "my_list.pop(2)\n",
    "my_list"
   ]
  },
  {
   "cell_type": "code",
   "execution_count": 27,
   "id": "6002a3d9",
   "metadata": {},
   "outputs": [],
   "source": [
    "# database,sql\n",
    "# select from user (1000x users)\n",
    "\n",
    "# audio files\n",
    "# numpy array <- scipy.io.wav.readfile(\"audio.wav\")\n"
   ]
  },
  {
   "cell_type": "code",
   "execution_count": null,
   "id": "f698fc39",
   "metadata": {},
   "outputs": [],
   "source": []
  },
  {
   "cell_type": "code",
   "execution_count": 30,
   "id": "41d6f16c",
   "metadata": {},
   "outputs": [],
   "source": [
    "my_map = {\"salaar\": 'b', \"john\": 'a', \"kristen\": 'a'}"
   ]
  },
  {
   "cell_type": "code",
   "execution_count": 31,
   "id": "7696f4de",
   "metadata": {},
   "outputs": [
    {
     "data": {
      "text/plain": [
       "{'salaar': 'b', 'john': 'a', 'kristen': 'a'}"
      ]
     },
     "execution_count": 31,
     "metadata": {},
     "output_type": "execute_result"
    }
   ],
   "source": [
    "my_map"
   ]
  },
  {
   "cell_type": "code",
   "execution_count": 33,
   "id": "3e311266",
   "metadata": {},
   "outputs": [
    {
     "name": "stdout",
     "output_type": "stream",
     "text": [
      "b\n",
      "{'salaar': 'b', 'john': 'a', 'kristen': 'a', 'amy': 'a'}\n"
     ]
    }
   ],
   "source": [
    "# look-up a value for a given key\n",
    "print(my_map[\"salaar\"])\n",
    "# insert a new key-value pair \n",
    "my_map[\"amy\"] = 'a'\n",
    "print(my_map)\n",
    "\n",
    "    \n",
    "    "
   ]
  },
  {
   "cell_type": "code",
   "execution_count": null,
   "id": "4351a9a5",
   "metadata": {},
   "outputs": [],
   "source": [
    "# remove a key-value pair\n"
   ]
  },
  {
   "cell_type": "code",
   "execution_count": 35,
   "id": "96df0ef5",
   "metadata": {},
   "outputs": [
    {
     "data": {
      "text/plain": [
       "'b'"
      ]
     },
     "execution_count": 35,
     "metadata": {},
     "output_type": "execute_result"
    }
   ],
   "source": [
    "my_map.pop(\"salaar\")"
   ]
  },
  {
   "cell_type": "code",
   "execution_count": 36,
   "id": "4373b7a4",
   "metadata": {},
   "outputs": [
    {
     "data": {
      "text/plain": [
       "{'john': 'a', 'kristen': 'a', 'amy': 'a'}"
      ]
     },
     "execution_count": 36,
     "metadata": {},
     "output_type": "execute_result"
    }
   ],
   "source": [
    "my_map"
   ]
  },
  {
   "cell_type": "code",
   "execution_count": null,
   "id": "a641e5de",
   "metadata": {},
   "outputs": [],
   "source": [
    "# update the value associated with a given key"
   ]
  },
  {
   "cell_type": "code",
   "execution_count": 37,
   "id": "fb7d29c5",
   "metadata": {},
   "outputs": [],
   "source": [
    "my_map['amy'] = 'a+'"
   ]
  },
  {
   "cell_type": "code",
   "execution_count": 38,
   "id": "d74555aa",
   "metadata": {},
   "outputs": [
    {
     "data": {
      "text/plain": [
       "{'john': 'a', 'kristen': 'a', 'amy': 'a+'}"
      ]
     },
     "execution_count": 38,
     "metadata": {},
     "output_type": "execute_result"
    }
   ],
   "source": [
    "my_map"
   ]
  },
  {
   "cell_type": "code",
   "execution_count": null,
   "id": "7cfd9739",
   "metadata": {},
   "outputs": [],
   "source": []
  },
  {
   "cell_type": "code",
   "execution_count": 39,
   "id": "4bddfbe7",
   "metadata": {},
   "outputs": [],
   "source": [
    "my_iter = iter([1, 2, 3, 4, 5, 6])"
   ]
  },
  {
   "cell_type": "code",
   "execution_count": 46,
   "id": "3226aaef",
   "metadata": {},
   "outputs": [
    {
     "ename": "StopIteration",
     "evalue": "",
     "output_type": "error",
     "traceback": [
      "\u001b[0;31m---------------------------------------------------------------------------\u001b[0m",
      "\u001b[0;31mStopIteration\u001b[0m                             Traceback (most recent call last)",
      "Cell \u001b[0;32mIn[46], line 1\u001b[0m\n\u001b[0;32m----> 1\u001b[0m \u001b[38;5;28mnext\u001b[39m(my_iter)\n",
      "\u001b[0;31mStopIteration\u001b[0m: "
     ]
    }
   ],
   "source": [
    "next(my_iter)"
   ]
  },
  {
   "cell_type": "code",
   "execution_count": 47,
   "id": "d2636ca8",
   "metadata": {},
   "outputs": [
    {
     "name": "stdout",
     "output_type": "stream",
     "text": [
      "1\n",
      "4\n",
      "6\n",
      "{1, 2, 3}\n",
      "[4, 5, 6]\n"
     ]
    }
   ],
   "source": [
    "for i in my_list:\n",
    "    print(i)"
   ]
  },
  {
   "cell_type": "code",
   "execution_count": null,
   "id": "5513a354",
   "metadata": {},
   "outputs": [],
   "source": []
  },
  {
   "cell_type": "code",
   "execution_count": 52,
   "id": "3dbf340a",
   "metadata": {},
   "outputs": [],
   "source": [
    "# we can implement abstract data types using different data structure\n",
    "# e.g. we can implement a set, using a list\n",
    "\n",
    "class MySet():\n",
    "    def __init__(self):\n",
    "        self.collection = []\n",
    "        \n",
    "    def insert(self, value):\n",
    "        if value not in self.collection:\n",
    "            self.collection.append(value)\n",
    "    \n",
    "    def remove(self, value):\n",
    "        self.collection.pop(self.collection.index(value))\n",
    "    \n",
    "    def length(self):\n",
    "        return len(self.collection)\n",
    "    \n",
    "    def is_in(self, value):\n",
    "        return value in self.collection\n",
    "    \n",
    "        "
   ]
  },
  {
   "cell_type": "code",
   "execution_count": 53,
   "id": "1c64ddc3",
   "metadata": {},
   "outputs": [],
   "source": [
    "x = MySet()"
   ]
  },
  {
   "cell_type": "code",
   "execution_count": 54,
   "id": "3767e7e4",
   "metadata": {},
   "outputs": [
    {
     "data": {
      "text/plain": [
       "<__main__.MySet at 0x112ce97d0>"
      ]
     },
     "execution_count": 54,
     "metadata": {},
     "output_type": "execute_result"
    }
   ],
   "source": [
    "x"
   ]
  },
  {
   "cell_type": "code",
   "execution_count": 55,
   "id": "3a3b9d9e",
   "metadata": {},
   "outputs": [],
   "source": [
    "x.insert(1)\n",
    "x.insert(2)\n",
    "x.insert(3)"
   ]
  },
  {
   "cell_type": "code",
   "execution_count": 56,
   "id": "9bb771e7",
   "metadata": {},
   "outputs": [
    {
     "data": {
      "text/plain": [
       "3"
      ]
     },
     "execution_count": 56,
     "metadata": {},
     "output_type": "execute_result"
    }
   ],
   "source": [
    "x.length()"
   ]
  },
  {
   "cell_type": "code",
   "execution_count": 57,
   "id": "2fdeba68",
   "metadata": {},
   "outputs": [],
   "source": [
    "x.insert(3)"
   ]
  },
  {
   "cell_type": "code",
   "execution_count": 58,
   "id": "0a5f6abc",
   "metadata": {},
   "outputs": [
    {
     "data": {
      "text/plain": [
       "3"
      ]
     },
     "execution_count": 58,
     "metadata": {},
     "output_type": "execute_result"
    }
   ],
   "source": [
    "x.length()"
   ]
  },
  {
   "cell_type": "code",
   "execution_count": 59,
   "id": "5e50e9e5",
   "metadata": {},
   "outputs": [],
   "source": [
    "x.remove(3)"
   ]
  },
  {
   "cell_type": "code",
   "execution_count": 60,
   "id": "837baf8a",
   "metadata": {},
   "outputs": [
    {
     "data": {
      "text/plain": [
       "2"
      ]
     },
     "execution_count": 60,
     "metadata": {},
     "output_type": "execute_result"
    }
   ],
   "source": [
    "x.length()"
   ]
  },
  {
   "cell_type": "code",
   "execution_count": 61,
   "id": "d9ed01fd",
   "metadata": {},
   "outputs": [
    {
     "data": {
      "text/plain": [
       "[1, 2]"
      ]
     },
     "execution_count": 61,
     "metadata": {},
     "output_type": "execute_result"
    }
   ],
   "source": [
    "x.collection"
   ]
  },
  {
   "cell_type": "code",
   "execution_count": null,
   "id": "678c7824",
   "metadata": {},
   "outputs": [],
   "source": []
  },
  {
   "cell_type": "code",
   "execution_count": null,
   "id": "199005ee",
   "metadata": {},
   "outputs": [],
   "source": []
  },
  {
   "cell_type": "markdown",
   "id": "8837c9a6-8a69-4356-be21-9298c4317339",
   "metadata": {},
   "source": [
    "# Array-Based Data Structures, Searching, and Sorting\n",
    "\n",
    "## Outline\n",
    "\n",
    "-   Array Based Data Structures\n",
    "\n",
    "    -   Stack, queue, Python List\n",
    "\n",
    "-   Searching\n",
    "\n",
    "    -   Linear, Binary Search\n",
    "\n",
    "-   Sorting\n",
    "\n",
    "    -   Selection, Insertion Sort\n",
    "\n",
    "-   Hash map, hash table (Python dictionary), hash functions\n",
    "\n",
    "# Array Based Data Structures\n",
    "\n",
    "## Abstract Data Types Versus Data Structure\n",
    "\n",
    "-   Some concepts are generally useful and transcend any programming\n",
    "    language\n",
    "\n",
    "-   An **abstract data type** (ADT) defines some kind of data and\n",
    "    operations that can be performed on it\n",
    "\n",
    "    -   Abstract because there is no mention of *how* data is stored or\n",
    "        *how* the operations work\n",
    "\n",
    "    -   Concerned about “what”\n",
    "\n",
    "-   A **data structure** is a concrete method of storing data (and\n",
    "    therefore its operations).\n",
    "\n",
    "    -   For instance, Python List is a data structure because it has a\n",
    "        specific implementation.\n",
    "\n",
    "-   ADTs form a common vocabulary for computer scientists to discuss\n",
    "    problems. It allows us to focus on the design and worry about\n",
    "    implementation later.\n",
    "\n",
    "## Important ADTs\n",
    "\n",
    "-   Set\n",
    "\n",
    "    -   Data: a collection of unique elements\n",
    "\n",
    "    -   Operations: get size, insert a value (without introducing\n",
    "        duplicates), remove a specified value, check membership\n",
    "\n",
    "-   List\n",
    "\n",
    "    -   Data: an ordered sequence of elements\n",
    "\n",
    "    -   Operations: access element by index, insert a value at a given\n",
    "        index, remove a value at a given index\n",
    "\n",
    "## Important ADTs [1]\n",
    "\n",
    "-   Map\n",
    "\n",
    "    -   Data: a collection of key-value pairs, where each key is unique\n",
    "        and associated with a single value\n",
    "\n",
    "    -   Operations: look-up a value for a given key, insert a new\n",
    "        key-value pair, remove a key-value pair, update the value\n",
    "        associated with a given key\n",
    "\n",
    "-   Iterable\n",
    "\n",
    "    -   Data: a collection of values (may or may not be unique)\n",
    "\n",
    "    -   Operations: iterate through the elements of the collection one\n",
    "        at a time.\n",
    "\n",
    "## Relation between ADTs and Data Structures\n",
    "\n",
    "-   A Python `list` is not an ADT. But it is a natural implementation of\n",
    "    the List ADT.\n",
    "\n",
    "    -   The designers of Python implemented `list` operations\n",
    "\n",
    "-   A single ADT can be implemented by many data structures\n",
    "\n",
    "    -   You could implement List ADT using a Python `dict`\n",
    "\n",
    "    -   We can store the list `[\"DS\", 4, \"Life\"]` like this:\n",
    "        `{0: \"DS\", 1: 4, 2: \"Life\"}`\n",
    "\n",
    "-   A data structure can implement many ADTs\n",
    "\n",
    "    -   Practice: how can you implement a set with a Python `list`?\n",
    "\n",
    "## Python Lists\n",
    "\n",
    "-   Each element has an address in memory. The addresses are ordered by\n",
    "    index number and adjacent to each other.\n",
    "\n",
    "-   Run time for `append` method\n",
    "\n",
    "    -   A new address is created and placed at the end of the list\n",
    "\n",
    "    -   $O(1)$ time because it doesn’t matter how long the list is\n",
    "\n",
    "-   Run time for `insert` method\n",
    "\n",
    "    -   The worst case occurs when you insert at the beginning of the\n",
    "        list because each element in the list has to be shifted down by\n",
    "        1.\n",
    "\n",
    "    -   $O(n)$ time\n",
    "\n",
    "-   Run time for `delete` method\n",
    "\n",
    "    -   If you remove the first element, all other elements must be\n",
    "        shifted up by one.\n",
    "\n",
    "    -   $O(n)$ time\n",
    "\n",
    "## Stack\n",
    "\n",
    "-   A stack contains zero or more items\n",
    "\n",
    "    -   Items are added at the top of the stack, called *pushing*\n",
    "\n",
    "    -   Items are removed from the top of the stack, called *popping*\n",
    "\n",
    "-   The first item added to the stack is the last item removed\n",
    "\n",
    "    -   We call this “first-in-last-out” (LIFO) behavior\n",
    "\n",
    "-   2 minutes: is it faster to use the front or back of a Python list to\n",
    "    implement a stack? What is the Big-O for stack operations under each\n",
    "    choice?\n",
    "\n",
    "## Queue\n",
    "\n",
    "-   A queue contains zero or more items\n",
    "\n",
    "    -   Items are added at the rear of the queue, called *enqueue*\n",
    "\n",
    "    -   Items are removed from the front of the queue, called *dequeing*\n",
    "\n",
    "-   Items come out of the queue in the order they were added\n",
    "\n",
    "    -   We call this “first-in-first-out” (FIFO) behavior\n",
    "\n",
    "-   2 minutes: is it faster to use the front or back of a Python list to\n",
    "    implement a queue? What is the Big-O for stack operations under each\n",
    "    choice?\n",
    "\n",
    "# Searching\n",
    "\n",
    "## Motivating Example\n",
    "\n",
    "-   You want to develop a ML method to search through a video to figure\n",
    "    out when a bike is stolen.\n",
    "\n",
    "-   You could start from the beginning of your video feed and run your\n",
    "    ML method on each frame until the bike is not in the frame.\n",
    "\n",
    "    -   This would take $O(n)$, probably a long time since you’re using\n",
    "        ML\n",
    "\n",
    "-   What if we started halfway through? If the bike was there, then\n",
    "    break the remaining video in half and check again. If the bike\n",
    "    wasn’t there, then break the previous part of the video in half and\n",
    "    check again.\n",
    "\n",
    "    -   This is *binary search*\n",
    "\n",
    "## Binary Versus Linear Search\n",
    "\n",
    "-   How many steps does binary searching through 100 numbers take?\n",
    "    10,000?\n",
    "\n",
    "    -   We can generalize this as $O(\\text{log}n)$\n",
    "\n",
    "-   What is the big-O of linear searching through 100 numbers? 10,000?\n",
    "\n",
    "    -   $O(n)$\n",
    "\n",
    "-   Notice binary search requires the list to be sorted in advance.\n",
    "\n",
    "    -   We implicitly assumed this in the bike theft example (time is\n",
    "        “sorted”)\n",
    "\n",
    "# Sorting\n",
    "\n",
    "## Selection Sort\n",
    "\n",
    "-   Suppose you want to sort prices of all fruits at a supermarket from\n",
    "    lowest to highest\n",
    "\n",
    "-   You go through the list, find the item with the lowest price then\n",
    "    place it on top, then find the second lowest price and place it\n",
    "    second, etc.\n",
    "\n",
    "    -   You will end up with a sorted list!\n",
    "\n",
    "-   To find the lowest price, you need to traverse the entire list. You\n",
    "    must do this $n$ times until there are no more items.\n",
    "\n",
    "    -   This takes $O(n^2)$ time\n",
    "\n",
    "## Insertion Sort\n",
    "\n",
    "-   Compare the current item to its predecessor. If the item is smaller\n",
    "    than its predecessor, compare it to the items before. Move the\n",
    "    greater items one position up to make space for the swapped item.\n",
    "\n",
    "-   You need to traverse the list once for each item in the list, so the\n",
    "    Big-O is $O(n^2)$.\n",
    "\n",
    "![](./images/insertion_sort.png)\n",
    "\n",
    "## Live Coding:\n",
    "\n",
    "The *h-index* is defined by Wikipedia as the maximum value of $h$ such\n",
    "that the given researcher has published at least $h$ papers that have\n",
    "each been cited at least $h$ times.\n",
    "\n",
    "Given a list of integers representing a researcher. Each index is their\n",
    "$ith$ publication and the value at the $ith$ index is the number of\n",
    "citations. Calculate the h-index of that researcher.\n",
    "\n",
    "### Example\n",
    "\n",
    "[1] From https://www.teach.cs.toronto.edu/~csc148h/winter/notes/"
   ]
  },
  {
   "cell_type": "code",
   "execution_count": 76,
   "id": "fd88bcec",
   "metadata": {},
   "outputs": [
    {
     "data": {
      "text/plain": [
       "4"
      ]
     },
     "execution_count": 76,
     "metadata": {},
     "output_type": "execute_result"
    }
   ],
   "source": [
    "# INPUT\n",
    "lst = [2,2,5,6]\n",
    "\n",
    "def get_h_index(lst):\n",
    "    \n",
    "    for i in range(len(lst), -1, -1):\n",
    "        num_citations = 0\n",
    "        for citation in lst:\n",
    "            if citation >= i:\n",
    "                num_citations+=1\n",
    "            \n",
    "            if num_citations >= i:\n",
    "                return i\n",
    "    \n",
    "    \n",
    "    return 0\n",
    "\n",
    "# OUTPUT\n",
    "# 2\n",
    "get_h_index(lst)"
   ]
  },
  {
   "cell_type": "code",
   "execution_count": 71,
   "id": "f7e7796e",
   "metadata": {},
   "outputs": [
    {
     "data": {
      "text/plain": [
       "2"
      ]
     },
     "execution_count": 71,
     "metadata": {},
     "output_type": "execute_result"
    }
   ],
   "source": []
  },
  {
   "cell_type": "code",
   "execution_count": 65,
   "id": "6bbe1def",
   "metadata": {},
   "outputs": [
    {
     "data": {
      "text/plain": [
       "[5, 4, 3, 2, 1, 0]"
      ]
     },
     "execution_count": 65,
     "metadata": {},
     "output_type": "execute_result"
    }
   ],
   "source": [
    "list(range(5, -1, -1))"
   ]
  },
  {
   "cell_type": "markdown",
   "id": "7c3265c3-d522-4c73-8f61-8ac240af5395",
   "metadata": {},
   "source": [
    "# Hash map, hash table (Python dictionary), hash functions\n",
    "\n",
    "## Motivating Example\n",
    "\n",
    "-   Recall from the first lecture that searching in a Python set took\n",
    "    (basically) 0 seconds\n",
    "\n",
    "    -   How was this achieved?\n",
    "\n",
    "    -   Binary search only has $O(\\text{log}n)$ time, so there must be\n",
    "        something else\n",
    "\n",
    "-   To achieve $O(1)$ time, we need something that immediately knows the\n",
    "    where/what the item is.\n",
    "\n",
    "    -   This is the purpose of *hash functions*\n",
    "\n",
    "## Hash Functions\n",
    "\n",
    "-   A hash function is a function where you enter a string and it\n",
    "    returns an integer\n",
    "\n",
    "    -   Python objects have hash"
   ]
  },
  {
   "cell_type": "code",
   "execution_count": 10,
   "id": "92fbc341",
   "metadata": {},
   "outputs": [
    {
     "data": {
      "text/plain": [
       "6716565949772021659"
      ]
     },
     "execution_count": 10,
     "metadata": {},
     "output_type": "execute_result"
    }
   ],
   "source": [
    "hash(\"Salaar\")"
   ]
  },
  {
   "cell_type": "code",
   "execution_count": 13,
   "id": "19bb135b",
   "metadata": {},
   "outputs": [
    {
     "data": {
      "text/plain": [
       "-9077914427648043427"
      ]
     },
     "execution_count": 13,
     "metadata": {},
     "output_type": "execute_result"
    }
   ],
   "source": [
    "hash(\"a\")"
   ]
  },
  {
   "cell_type": "code",
   "execution_count": null,
   "id": "74ce2110",
   "metadata": {},
   "outputs": [],
   "source": []
  },
  {
   "cell_type": "code",
   "execution_count": 57,
   "id": "335a9582",
   "metadata": {},
   "outputs": [],
   "source": [
    "size = 10 # Hash table 10\n",
    "lst = []\n",
    "for i in range(size):\n",
    "    lst.append([]) # [[],[],[],[],[],[],[]]"
   ]
  },
  {
   "cell_type": "code",
   "execution_count": 58,
   "id": "aabe2ed6",
   "metadata": {},
   "outputs": [],
   "source": [
    "item1 = (\"bananas\", 4) # key, value. item1[0] -> key, item1[1] -> value\n",
    "item2 = (\"apples\", 2)\n",
    "item3 = (\"oranges\", 7)\n",
    "item4 = (\"grapes\", 9)"
   ]
  },
  {
   "cell_type": "code",
   "execution_count": 66,
   "id": "fc20f054",
   "metadata": {},
   "outputs": [
    {
     "data": {
      "text/plain": [
       "9"
      ]
     },
     "execution_count": 66,
     "metadata": {},
     "output_type": "execute_result"
    }
   ],
   "source": [
    "hash(\"g\")%size"
   ]
  },
  {
   "cell_type": "code",
   "execution_count": 65,
   "id": "41eb3575",
   "metadata": {},
   "outputs": [
    {
     "data": {
      "text/plain": [
       "9"
      ]
     },
     "execution_count": 65,
     "metadata": {},
     "output_type": "execute_result"
    }
   ],
   "source": [
    "hash(\"bananas\")%size"
   ]
  },
  {
   "cell_type": "code",
   "execution_count": 67,
   "id": "ae838e31",
   "metadata": {},
   "outputs": [
    {
     "data": {
      "text/plain": [
       "[('bananas', 4), ('g', 0)]"
      ]
     },
     "execution_count": 67,
     "metadata": {},
     "output_type": "execute_result"
    }
   ],
   "source": [
    "lst[hash(item1[0])%size]"
   ]
  },
  {
   "cell_type": "code",
   "execution_count": 69,
   "id": "88189f82",
   "metadata": {},
   "outputs": [
    {
     "data": {
      "text/plain": [
       "9"
      ]
     },
     "execution_count": 69,
     "metadata": {},
     "output_type": "execute_result"
    }
   ],
   "source": [
    "hash(item1[0])%size"
   ]
  },
  {
   "cell_type": "code",
   "execution_count": 70,
   "id": "723622e7",
   "metadata": {},
   "outputs": [
    {
     "data": {
      "text/plain": [
       "'bananas'"
      ]
     },
     "execution_count": 70,
     "metadata": {},
     "output_type": "execute_result"
    }
   ],
   "source": [
    "item1[0]"
   ]
  },
  {
   "cell_type": "code",
   "execution_count": 59,
   "id": "f011fd9b",
   "metadata": {},
   "outputs": [],
   "source": [
    "lst[hash(item1[0])%size].append(item1)\n",
    "lst[hash(item2[0])%size].append(item2)\n",
    "lst[hash(item3[0])%size].append(item3)\n",
    "lst[hash(item4[0])%size].append(item4)\n"
   ]
  },
  {
   "cell_type": "code",
   "execution_count": 60,
   "id": "dc18a736",
   "metadata": {
    "scrolled": true
   },
   "outputs": [
    {
     "data": {
      "text/plain": [
       "[[],\n",
       " [('grapes', 9)],\n",
       " [],\n",
       " [],\n",
       " [],\n",
       " [],\n",
       " [],\n",
       " [('apples', 2)],\n",
       " [('oranges', 7)],\n",
       " [('bananas', 4)]]"
      ]
     },
     "execution_count": 60,
     "metadata": {},
     "output_type": "execute_result"
    }
   ],
   "source": [
    "lst"
   ]
  },
  {
   "cell_type": "code",
   "execution_count": 61,
   "id": "d7d515fc",
   "metadata": {},
   "outputs": [
    {
     "data": {
      "text/plain": [
       "4"
      ]
     },
     "execution_count": 61,
     "metadata": {},
     "output_type": "execute_result"
    }
   ],
   "source": [
    "lst[hash(item1[0])%size][0][1]"
   ]
  },
  {
   "cell_type": "code",
   "execution_count": 62,
   "id": "8007b7aa",
   "metadata": {},
   "outputs": [],
   "source": [
    "lst[hash(\"g\")%size].append((\"g\", 0))"
   ]
  },
  {
   "cell_type": "code",
   "execution_count": 63,
   "id": "b4b32483",
   "metadata": {},
   "outputs": [
    {
     "data": {
      "text/plain": [
       "[[],\n",
       " [('grapes', 9)],\n",
       " [],\n",
       " [],\n",
       " [],\n",
       " [],\n",
       " [],\n",
       " [('apples', 2)],\n",
       " [('oranges', 7)],\n",
       " [('bananas', 4), ('g', 0)]]"
      ]
     },
     "execution_count": 63,
     "metadata": {},
     "output_type": "execute_result"
    }
   ],
   "source": [
    "lst"
   ]
  },
  {
   "cell_type": "code",
   "execution_count": null,
   "id": "a6d0aa05",
   "metadata": {},
   "outputs": [],
   "source": []
  },
  {
   "cell_type": "code",
   "execution_count": 52,
   "id": "b6cf0e8e",
   "metadata": {},
   "outputs": [
    {
     "data": {
      "text/plain": [
       "{'a': 'string', 'b': 'abc'}"
      ]
     },
     "execution_count": 52,
     "metadata": {},
     "output_type": "execute_result"
    }
   ],
   "source": [
    "{\"a\": \"string\", \"b\": \"abc\"}"
   ]
  },
  {
   "cell_type": "code",
   "execution_count": null,
   "id": "d54b005e",
   "metadata": {},
   "outputs": [],
   "source": []
  },
  {
   "cell_type": "markdown",
   "id": "5e90a472-56d3-43ec-ad80-c348ccf52c6d",
   "metadata": {},
   "source": [
    "-   There are two requirements for a hash function\n",
    "\n",
    "    -   It needs to be consistent. For instance, if you enter “UofT” and\n",
    "        get “1827”, then every time you enter “UofT” you should get\n",
    "        “1827”\n",
    "\n",
    "    -   It maps different words to different numbers. Each string has a\n",
    "        unique hash.\n",
    "\n",
    "## Using Hash Functions: Example\n",
    "\n",
    "-   Suppose you have a grocery store catalog with prices and barcodes.\n",
    "    When you scan an item at checkout, you want it to instantly return\n",
    "    the price.\n",
    "\n",
    "-   You can put each barcode into a hash function.\n",
    "\n",
    "    -   Let’s say barcode “1234” *hashes* to “1” and “2” hashes to\n",
    "        “9876”\n",
    "\n",
    "    -   We store the price of item “1234” at address “1”. Store the\n",
    "        price of item “9876” at address “2”\n",
    "\n",
    "    -   We say the price at “1” is the *hash value* of “1”\n",
    "\n",
    "-   If there are 8 items sold at the store, then the hash function will\n",
    "    only return integers from 1 to 8\n",
    "\n",
    "    -   The size of the hash table is often referred to as its number of\n",
    "        bins or slots.\n",
    "\n",
    "    -   Thus, the hash function depends on the array\n",
    "\n",
    "-   This implementation is called a *hash table*\n",
    "\n",
    "    -   The hash table is basically a list of lists, and the hash\n",
    "        function maps an object to its location in the outer list.\n",
    "\n",
    "## Python’s Hash Tables: `dict`\n",
    "\n",
    "-   You will likely never implement a hash table yourself, most\n",
    "    languages have an implementation for hash tables.\n",
    "\n",
    "    -   In Python, this is the `dict` class\n",
    "\n",
    "-   Dictionaries have keys and values (barcodes and prices)\n",
    "\n",
    "-   Dictionaries have really good performance. Search, insert, or delete\n",
    "    items are all are $O(1)$ in the average case.\n",
    "\n",
    "    -   The average case assumes you have a “good” hash function that avoids\n",
    "        *collisions*. You can read more about collisions in the\n",
    "        textbooks.\n",
    "\n",
    "    -   The worst case of Python dictionaries for search, insert, and\n",
    "        delete is $O(n)$.\n",
    "\n",
    "-   Recall Python dictionaries don’t allow duplicate keys, that is\n",
    "    because hashes must be unique!\n",
    "\n",
    "## Python `set`\n",
    "\n",
    "-   Recall during the first lecture, we showcased that Python’s set\n",
    "    search was much faster than list search\n",
    "\n",
    "-   This is because Python’s set implements a hash function to store its\n",
    "    values\n",
    "\n",
    "# Recommended Problems and References\n",
    "\n",
    "## Recommended Problems\n",
    "\n",
    "-   Bhargava: Chapter 5\n",
    "\n",
    "    -   5.1 to 5.4\n",
    "\n",
    "    -   Read pages 79 to 86 on the use cases of hash functions\n",
    "\n",
    "-   Additional\n",
    "\n",
    "    -   Give examples of 2 situations to use a queue and 2 situations to\n",
    "        use a stack\n",
    "\n",
    "    -   In Python, code a `stack` class with `is_empty`, `push`, and\n",
    "        `pop` methods using the end of a Python list as the top of the\n",
    "        stack. Bonus: Compare the run time of using the start of the\n",
    "        list versus the end of the list as the top of the stack using\n",
    "        the `timeit` library!\n",
    "\n",
    "    -   In Python, code a `binary_search` function.\n",
    "\n",
    "    -   In Python, code a `hash_table` that can hash 4 values.\n",
    "\n",
    "## References\n",
    "\n",
    "-   Bhargava, A. Y. (2016). *Grokking algorithms: An illustrated guide\n",
    "    for programmers and other curious people.* Manning. Chapter 5.\n",
    "\n",
    "-   Cormen, T. H. (Ed.). (2009). *Introduction to algorithms* (3rd ed).\n",
    "    MIT Press. Chapter 2, 10, 11.\n",
    "\n",
    "-   Horton, D., & Liu, D. (2023, November 19). *CSC148 Lecture Notes*.\n",
    "    https://www.teach.cs.toronto.edu/~csc148h/winter/notes/"
   ]
  },
  {
   "cell_type": "code",
   "execution_count": null,
   "id": "50233fca",
   "metadata": {},
   "outputs": [],
   "source": []
  },
  {
   "cell_type": "code",
   "execution_count": null,
   "id": "d7703658",
   "metadata": {},
   "outputs": [],
   "source": []
  },
  {
   "cell_type": "code",
   "execution_count": 71,
   "id": "5a1e40b7",
   "metadata": {},
   "outputs": [
    {
     "name": "stdout",
     "output_type": "stream",
     "text": [
      "2\n"
     ]
    }
   ],
   "source": [
    "import hashlib\n",
    "\n",
    "def hash_to_range(input_string: str) -> int:\n",
    "     hash_object = hashlib.sha256(input_string.encode())\n",
    "     hash_int = int(hash_object.hexdigest(), 16)\n",
    "     return (hash_int % 3) + 1\n",
    "input_string = \"rameez\"\n",
    "result = hash_to_range(input_string)\n",
    "print(result)"
   ]
  },
  {
   "cell_type": "code",
   "execution_count": null,
   "id": "e51f22d4",
   "metadata": {},
   "outputs": [],
   "source": []
  }
 ],
 "metadata": {
  "kernelspec": {
   "display_name": "Python 3 (ipykernel)",
   "language": "python",
   "name": "python3"
  },
  "language_info": {
   "codemirror_mode": {
    "name": "ipython",
    "version": 3
   },
   "file_extension": ".py",
   "mimetype": "text/x-python",
   "name": "python",
   "nbconvert_exporter": "python",
   "pygments_lexer": "ipython3",
   "version": "3.11.5"
  }
 },
 "nbformat": 4,
 "nbformat_minor": 5
}
