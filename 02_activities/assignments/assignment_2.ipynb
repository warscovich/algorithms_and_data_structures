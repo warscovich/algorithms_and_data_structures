{
 "cells": [
  {
   "cell_type": "markdown",
   "metadata": {},
   "source": [
    "# Practice Interview\n",
    "\n",
    "## Objective\n",
    "\n",
    "_*The partner assignment aims to provide participants with the opportunity to practice coding in an interview context. You will analyze your partner's Assignment 1. Moreover, code reviews are common practice in a software development team. This assignment should give you a taste of the code review process.*_\n",
    "\n",
    "## Group Size\n",
    "\n",
    "Each group should have 2 people. You will be assigned a partner\n",
    "\n",
    "## Parts:\n",
    "- Part 1: Complete 1 of 3 questions\n",
    "- Part 2: Review your partner's Assignment 1 submission\n",
    "- Part 3: Perform code review of your partner's assignment 1 by answering the questions below\n",
    "- Part 3: Reflect on Assignment 1 and Assignment 2\n",
    "\n",
    "## Part 1:\n",
    "\n",
    "_*You will be assigned one of three problems based of your first name. Enter your first name, in all lower case, execute the code below, and that will tell you your assigned problem. Include the output as part of your submission (do not clear the output). The problems are based-off problems from Leetcode.*_"
   ]
  },
  {
   "cell_type": "code",
   "execution_count": 1,
   "metadata": {},
   "outputs": [
    {
     "name": "stdout",
     "output_type": "stream",
     "text": [
      "2\n"
     ]
    }
   ],
   "source": [
    "import hashlib\n",
    "\n",
    "def hash_to_range(input_string: str) -> int:\n",
    "     hash_object = hashlib.sha256(input_string.encode())\n",
    "     hash_int = int(hash_object.hexdigest(), 16)\n",
    "     return (hash_int % 3) + 1\n",
    "input_string = \"julian\"\n",
    "result = hash_to_range(input_string)\n",
    "print(result)\n"
   ]
  },
  {
   "cell_type": "markdown",
   "metadata": {},
   "source": [
    "<details>\n",
    "  <summary>Question 1</summary>\n",
    "\n",
    "  # Question One: Check Duplicates in Tree\n",
    "\n",
    "  Given the `root` of a binary tree, check whether it is contains a duplicate value. If a duplicate exists, return the duplicate value. If there are multiple duplicates, return the one with the closest distance to the root. If no duplicate exists, return -1.\n",
    "\n",
    "  ## Examples\n",
    "\n",
    "  ### Example 1\n",
    "\n",
    "  ![](./images/q1_ex1.png)\n",
    "\n",
    "  Input: `root = [1, 2, 2, 3, 5, 6, 7]` *What traversal method is this?*\n",
    "\n",
    "  Output: 2\n",
    "\n",
    "  ### Example 2\n",
    "\n",
    "  ![](./images/q1_ex2.png)\n",
    "\n",
    "  Input: `root = [1, 10, 2, 3, 10, 12, 12]`\n",
    "\n",
    "  Output: 10\n",
    "\n",
    "  ### Example 3\n",
    "\n",
    "  ![](./images/q1_ex3.png)\n",
    "\n",
    "  Input: `root = [10, 9, 8, 7]`\n",
    "\n",
    "  Output: -1\n",
    "\n",
    "</details>\n",
    "\n",
    "#### Starter Code for Question 1"
   ]
  },
  {
   "cell_type": "code",
   "execution_count": null,
   "metadata": {},
   "outputs": [],
   "source": [
    "# Definition for a binary tree node.\n",
    "# class TreeNode(object):\n",
    "#     def __init__(self, val = 0, left = None, right = None):\n",
    "#         self.val = val\n",
    "#         self.left = left\n",
    "#         self.right = right\n",
    "def is_duplicate(root: TreeNode) -> int:\n",
    "  # TODO"
   ]
  },
  {
   "cell_type": "markdown",
   "metadata": {},
   "source": [
    "<details>\n",
    "  <summary>Question 2</summary>\n",
    "\n",
    "  # Question Two: Path to Leaves\n",
    "\n",
    "  Given the `root` of a binary tree, return all root to leaf paths in any order.\n",
    "\n",
    "  ## Examples\n",
    "\n",
    "  ### Example 1\n",
    "\n",
    "  ![](./images/q1_ex1.png)\n",
    "\n",
    "  Input: `root = [1, 2, 2, 3, 5, 6, 7]` *What traversal method is this?*\n",
    "\n",
    "  Output: [[1, 2, 3], [1, 2, 5], [1, 2, 6], [1, 2, 7]]\n",
    "\n",
    "  ### Example 2\n",
    "\n",
    "  ![](./images/q1_ex3.png)\n",
    "\n",
    "  Input: `root = [10, 9, 7, 8]`\n",
    "\n",
    "  Output: [[10, 7], [10, 9, 8]]\n",
    "\n",
    "</details>\n",
    "\n",
    "#### Starter Code for Question 2"
   ]
  },
  {
   "cell_type": "code",
   "execution_count": 26,
   "metadata": {},
   "outputs": [],
   "source": [
    "# Definition for a binary tree node.\n",
    "from typing import List\n",
    "class TreeNode(object):\n",
    "    def __init__(self, val = 0, left = None, right = None):\n",
    "        self.val = val\n",
    "        self.left = left\n",
    "        self.right = right\n",
    "\n",
    "def bt_path(root: TreeNode) -> List[List[int]]:\n",
    "  res = []\n",
    "  def dfs(root: TreeNode, path: List[int]):\n",
    "    if not root:\n",
    "      return\n",
    "    path.append(root.val)\n",
    "    if root.left == None and root.right  == None:\n",
    "      res.append(path.copy())\n",
    "    dfs(root.left,path)\n",
    "    dfs(root.right,path)\n",
    "    path.pop()\n",
    "  dfs(root,[])\n",
    "  return res\n",
    "    "
   ]
  },
  {
   "cell_type": "code",
   "execution_count": 32,
   "metadata": {},
   "outputs": [
    {
     "name": "stdout",
     "output_type": "stream",
     "text": [
      "[[10, 9, 8], [10, 7]]\n",
      "[]\n",
      "[[1, 2, 3]]\n",
      "[[1, 3, 7]]\n"
     ]
    }
   ],
   "source": [
    "print(bt_path(TreeNode(10,TreeNode(9,TreeNode(8)),TreeNode(7))))\n",
    "print(bt_path(None))\n",
    "print(bt_path(TreeNode(1,TreeNode(2,TreeNode(3)))))\n",
    "print(bt_path(TreeNode(1,None,TreeNode(3,None,TreeNode(7)))))\n"
   ]
  },
  {
   "cell_type": "markdown",
   "metadata": {},
   "source": [
    "<details>\n",
    "  <summary>Question 3</summary>\n",
    "\n",
    "  # Question Three: Missing Number in Range\n",
    " \n",
    "  You are given a list containing `n` integers in the range `[0, n]`. Return a list of numbers that are missing from the range `[0, n]` of the array. If there is no missing number, return -1. Note, all the integers in the list may not be unique.\n",
    "  \n",
    "  ## Examples\n",
    "\n",
    "  ### Example 1\n",
    "\n",
    "  Input: `lst = [0, 2]`\n",
    "\n",
    "  Output: [1]\n",
    "\n",
    "  ### Example 2\n",
    "\n",
    "  Input: `lst = [5, 0, 1]`\n",
    "\n",
    "  Output: [2, 3, 4]\n",
    "\n",
    "  ### Example 3\n",
    "\n",
    "  Input: `lst = [6, 8, 2, 3, 5, 7, 0, 1, 10]`\n",
    "\n",
    "  Output: [4, 9]\n",
    "\n",
    "</details>\n",
    "\n",
    "#### Starter Code for Question 3\n"
   ]
  },
  {
   "cell_type": "code",
   "execution_count": null,
   "metadata": {
    "scrolled": true
   },
   "outputs": [],
   "source": [
    "def missing_num(nums: List) -> int:\n",
    "  # TODO"
   ]
  },
  {
   "cell_type": "markdown",
   "metadata": {
    "jp-MarkdownHeadingCollapsed": true
   },
   "source": [
    "## Part 2:\n",
    "\n",
    "You and your partner must share each other's Assignment 1 submission.\n",
    "\n",
    "Assigned partner: https://github.com/MahChek/algorithms_and_data_structures/blob/assignment-1/02_activities/assignments/assignment_1.ipynb"
   ]
  },
  {
   "cell_type": "markdown",
   "metadata": {},
   "source": [
    "\n",
    "## Part 3:\n",
    "\n",
    "Create a Jupyter Notebook, create 6 of the following headings, and complete the following for your partner's assignment 1:\n",
    "\n",
    "-   Paraphrase the problem in your own words.\n"
   ]
  },
  {
   "cell_type": "code",
   "execution_count": 12,
   "metadata": {},
   "outputs": [
    {
     "name": "stdout",
     "output_type": "stream",
     "text": [
      "The question 3 is asking to push all the zeros at the end of the list while maintaining the order of the non-zero numbers in the original list.\n"
     ]
    }
   ],
   "source": [
    "# Your answer here\n",
    "print('The question 3 is asking to push all the zeros at the end of the list while maintaining the order of the non-zero numbers in the original list.')"
   ]
  },
  {
   "cell_type": "markdown",
   "metadata": {},
   "source": [
    "\n",
    "-   Create 1 new example that demonstrates you understand the problem. Trace/walkthrough 1 example that your partner made and explain it.\n"
   ]
  },
  {
   "cell_type": "code",
   "execution_count": 10,
   "metadata": {},
   "outputs": [
    {
     "name": "stdout",
     "output_type": "stream",
     "text": [
      "[6, 7, 0, 0, 0]\n"
     ]
    },
    {
     "data": {
      "text/plain": [
       "[6, 7, -2, 67, 3, 13, 9, 17, 10, 8, 0, 0, 0, 0, 0]"
      ]
     },
     "execution_count": 10,
     "metadata": {},
     "output_type": "execute_result"
    }
   ],
   "source": [
    "# Your answer here\n",
    "#NEW SAMPLE \n",
    "nums = [0,6,0,7,0]\n",
    "# The algorithm iterates and \n",
    "# * Add 0 to the zeros when ith number is zero\n",
    "# * Add the ith number to non_zeros when the ith number is non zero\n",
    "# * Concat the result first the non_zeros followed by the zeros\n",
    "# Example\n",
    "# 1st iteration zeros = [0] , non_zeros = []\n",
    "# 2nd iteration zeros = [0] , non_zeros = [6]\n",
    "# 3rd iteration zeros = [0,0] , non_zeros = [6]\n",
    "# 4th iteration zeros =[0,0] , non_zeros = [6,7]\n",
    "# 5th iteration zeros = [0,0,0] non_zeros = [6,7]\n",
    "# finally it will concatanate pushing all zeros to de back and solving the problem. [6,7] + [0,0,0] -> [6,7,0,0,0]\n",
    "print(move_zeros_to_end(nums))\n",
    "\n",
    "#PARTNER EXAMPLE\n",
    "#input:\n",
    "nums= [6,7,0,0,-2, 67, 0, 0, 3, 13, 0, 9, 17, 10, 8,]\n",
    "res= move_zeros_to_end(nums)\n",
    "# Following the same iteration logic explained in the new sample at the end of the iteration we will have the following values\n",
    "# non_zero = [6,7,-2,67,3,13,9,17,10,8] zeros = [0,0,0,0,0] \n",
    "# after concat will result in the answer [6, 7, -2, 67, 3, 13, 9, 17, 10, 8, 0, 0, 0, 0, 0]\n",
    "res"
   ]
  },
  {
   "cell_type": "markdown",
   "metadata": {},
   "source": [
    "\n",
    "-   Copy the solution your partner wrote. \n"
   ]
  },
  {
   "cell_type": "code",
   "execution_count": 6,
   "metadata": {},
   "outputs": [
    {
     "name": "stdout",
     "output_type": "stream",
     "text": [
      "input: nums=  [0, 1, 0, 3, 12]\n",
      "output: [1, 3, 12, 0, 0]\n"
     ]
    }
   ],
   "source": [
    "# Your answer here\n",
    "from typing import List\n",
    "nums = [0, 1, 0, 3, 12]\n",
    "def move_zeros_to_end(nums: List[int]) -> List[int]:\n",
    "    zeros=[]\n",
    "    non_zeros=[]\n",
    "    for x in nums:\n",
    "        if x==0:\n",
    "            zeros.append (x)\n",
    "        \n",
    "        else:\n",
    "            non_zeros.append (x)\n",
    "    res=non_zeros+zeros\n",
    "    return res\n",
    "res= move_zeros_to_end (nums)\n",
    "print (f\"input: nums= \", nums) \n",
    "print (f\"output:\", res) "
   ]
  },
  {
   "cell_type": "markdown",
   "metadata": {},
   "source": [
    "\n",
    "-   Explain why their solution works in your own words.\n"
   ]
  },
  {
   "cell_type": "code",
   "execution_count": 14,
   "metadata": {},
   "outputs": [
    {
     "name": "stdout",
     "output_type": "stream",
     "text": [
      "This solution works because it identifies and maintains the order of the numbers in a list while tracking the zeros needed to be added in the end\n"
     ]
    }
   ],
   "source": [
    "# Your answer here\n",
    "print('This solution works because it identifies and maintains the order of the numbers in a list while tracking the zeros needed to be added in the end')"
   ]
  },
  {
   "cell_type": "markdown",
   "metadata": {},
   "source": [
    "\n",
    "-   Explain the problem’s time and space complexity in your own words.\n"
   ]
  },
  {
   "cell_type": "code",
   "execution_count": 15,
   "metadata": {},
   "outputs": [
    {
     "name": "stdout",
     "output_type": "stream",
     "text": [
      "O(N) running complexity going over all elements and concatenating the arrays. O(N) space complexity saving all values in 2 lists.\n"
     ]
    }
   ],
   "source": [
    "# Your answer here\n",
    "print('O(N) running complexity going over all elements and concatenating the arrays. O(N) space complexity saving all values in 2 lists.')"
   ]
  },
  {
   "cell_type": "markdown",
   "metadata": {},
   "source": [
    "\n",
    "-   Critique your partner's solution, including explanation, and if there is anything that should be adjusted.\n"
   ]
  },
  {
   "cell_type": "code",
   "execution_count": 19,
   "metadata": {},
   "outputs": [
    {
     "name": "stdout",
     "output_type": "stream",
     "text": [
      "Is a good solution as it runs in O(N) time which is optimal. \n",
      "However, we could do better in space complexity O(1) with a two-pointer approach\n"
     ]
    }
   ],
   "source": [
    "# Your answer here\n",
    "print('Is a good solution as it runs in O(N) time which is optimal. ' \\\n",
    "'\\nHowever, we could do better in space complexity O(1) with a two-pointer approach')"
   ]
  },
  {
   "cell_type": "markdown",
   "metadata": {},
   "source": [
    "\n",
    "## Part 4:\n",
    "\n",
    "Please write a 200 word reflection documenting your process from assignment 1, and your presentation and review experience with your partner at the bottom of the Jupyter Notebook under a new heading \"Reflection.\" Again, export this Notebook as pdf.\n"
   ]
  },
  {
   "cell_type": "markdown",
   "metadata": {},
   "source": [
    "### Reflection"
   ]
  },
  {
   "cell_type": "code",
   "execution_count": 1,
   "metadata": {},
   "outputs": [
    {
     "data": {
      "text/plain": [
       "'\\nFrom assignment 1 the problem assigned was to solve a the valid bracket sequence problem. \\nThis problem the trick is to use a queue to track the brackets so you know which one first to close. \\nThe time and space complexity were determined by looking at the for loop and worst-case scenario when\\nwe have only opening brackets having O(N) stored in the queue. \\n \\nFor the assignment 2 path to leaves, is a recursive depth first search algorithm. \\nThe only tricky part is handling the copies of the solution to avoid creating multiple lists as much as possible. The time complexity is O(N) because we have to go\\nto each of the elements in the node to each leaf to return the answer. In case of the space complexity, the worst case is O(N) because in and scenario where there is only one leaf and many nodes in the tree (not balanced binary tree), the recursion stack will have size N before backtracking all the way to the root.\\n\\nFor the review experience, is always good to check how other people come to different solutions to a problem. \\nThe solution was very straight forward and he even correctly identify where the code could be improved. I think that using a 2-pointer approach \\nto find the zeros and replace with the non-zeros found with the second pointer would be the easiest solution.\\n\\nFor example:\\n\\n[1,2,0,0,3,0,1]\\n     ^   ^ \\n[1,2,3,0,0,0,1]\\n       ^     ^\\n[1,2,3,1,0,0,0]\\n'"
      ]
     },
     "execution_count": 1,
     "metadata": {},
     "output_type": "execute_result"
    }
   ],
   "source": [
    "# Your answer here\n",
    "'''\n",
    "From assignment 1 the problem assigned was to solve a the valid bracket sequence problem. \n",
    "This problem the trick is to use a queue to track the brackets so you know which one first to close. \n",
    "The time and space complexity were determined by looking at the for loop and worst-case scenario when\n",
    "we have only opening brackets having O(N) stored in the queue. \n",
    " \n",
    "For the assignment 2 path to leaves, is a recursive depth first search algorithm. \n",
    "The only tricky part is handling the copies of the solution to avoid creating multiple lists as much as possible. The time complexity is O(N) because we have to go\n",
    "to each of the elements in the node to each leaf to return the answer. In case of the space complexity, the worst case is O(N) because in and scenario where there is only one leaf and many nodes in the tree (not balanced binary tree), the recursion stack will have size N before backtracking all the way to the root.\n",
    "\n",
    "For the review experience, is always good to check how other people come to different solutions to a problem. \n",
    "The solution was very straight forward and he even correctly identify where the code could be improved. I think that using a 2-pointer approach \n",
    "to find the zeros and replace with the non-zeros found with the second pointer would be the easiest solution.\n",
    "\n",
    "For example:\n",
    "\n",
    "[1,2,0,0,3,0,1]\n",
    "     ^   ^ \n",
    "[1,2,3,0,0,0,1]\n",
    "       ^     ^\n",
    "[1,2,3,1,0,0,0]\n",
    "'''"
   ]
  },
  {
   "cell_type": "markdown",
   "metadata": {},
   "source": [
    "\n",
    "## Evaluation Criteria\n",
    "\n",
    "We are looking for the similar points as Assignment 1\n",
    "\n",
    "-   Problem is accurately stated\n",
    "\n",
    "-   New example is correct and easily understandable\n",
    "\n",
    "-   Correctness, time, and space complexity of the coding solution\n",
    "\n",
    "-   Clarity in explaining why the solution works, its time and space complexity\n",
    "\n",
    "-   Quality of critique of your partner's assignment, if necessary\n"
   ]
  },
  {
   "cell_type": "markdown",
   "metadata": {},
   "source": [
    "## Submission Information\n",
    "\n",
    "🚨 **Please review our [Assignment Submission Guide](https://github.com/UofT-DSI/onboarding/blob/main/onboarding_documents/submissions.md)** 🚨 for detailed instructions on how to format, branch, and submit your work. Following these guidelines is crucial for your submissions to be evaluated correctly.\n",
    "\n",
    "### Submission Parameters:\n",
    "* Submission Due Date: `HH:MM AM/PM - DD/MM/YYYY`\n",
    "* The branch name for your repo should be: `assignment-2`\n",
    "* What to submit for this assignment:\n",
    "    * This Jupyter Notebook (assignment_2.ipynb) should be populated and should be the only change in your pull request.\n",
    "* What the pull request link should look like for this assignment: `https://github.com/<your_github_username>/algorithms_and_data_structures/pull/<pr_id>`\n",
    "    * Open a private window in your browser. Copy and paste the link to your pull request into the address bar. Make sure you can see your pull request properly. This helps the technical facilitator and learning support staff review your submission easily.\n",
    "\n",
    "Checklist:\n",
    "- [ ] Created a branch with the correct naming convention.\n",
    "- [ ] Ensured that the repository is public.\n",
    "- [ ] Reviewed the PR description guidelines and adhered to them.\n",
    "- [ ] Verify that the link is accessible in a private browser window.\n",
    "\n",
    "If you encounter any difficulties or have questions, please don't hesitate to reach out to our team via our Slack at `#cohort-6-help`. Our Technical Facilitators and Learning Support staff are here to help you navigate any challenges.\n"
   ]
  }
 ],
 "metadata": {
  "kernelspec": {
   "display_name": "dsi_participant",
   "language": "python",
   "name": "python3"
  },
  "language_info": {
   "codemirror_mode": {
    "name": "ipython",
    "version": 3
   },
   "file_extension": ".py",
   "mimetype": "text/x-python",
   "name": "python",
   "nbconvert_exporter": "python",
   "pygments_lexer": "ipython3",
   "version": "3.9.18"
  }
 },
 "nbformat": 4,
 "nbformat_minor": 4
}
